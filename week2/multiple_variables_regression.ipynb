{
 "cells": [
  {
   "cell_type": "code",
   "execution_count": 1,
   "metadata": {
    "collapsed": true
   },
   "outputs": [],
   "source": [
    "import numpy as np\n",
    "import sklearn as sk\n",
    "import sklearn.datasets\n",
    "import sklearn.model_selection\n",
    "import sklearn.linear_model\n",
    "import sklearn.metrics\n",
    "import matplotlib.pyplot as plt\n",
    "import pandas as pd"
   ]
  },
  {
   "cell_type": "code",
   "execution_count": 2,
   "metadata": {
    "collapsed": false
   },
   "outputs": [],
   "source": [
    "x, y = sk.datasets.make_regression(n_features=4, noise=30)"
   ]
  },
  {
   "cell_type": "code",
   "execution_count": 3,
   "metadata": {
    "collapsed": false
   },
   "outputs": [
    {
     "data": {
      "text/html": [
       "<div>\n",
       "<table border=\"1\" class=\"dataframe\">\n",
       "  <thead>\n",
       "    <tr style=\"text-align: right;\">\n",
       "      <th></th>\n",
       "      <th>x0</th>\n",
       "      <th>x1</th>\n",
       "      <th>x2</th>\n",
       "      <th>x3</th>\n",
       "      <th>y</th>\n",
       "    </tr>\n",
       "  </thead>\n",
       "  <tbody>\n",
       "    <tr>\n",
       "      <th>count</th>\n",
       "      <td>100.000000</td>\n",
       "      <td>100.000000</td>\n",
       "      <td>100.000000</td>\n",
       "      <td>100.000000</td>\n",
       "      <td>100.000000</td>\n",
       "    </tr>\n",
       "    <tr>\n",
       "      <th>mean</th>\n",
       "      <td>0.073504</td>\n",
       "      <td>-0.398587</td>\n",
       "      <td>-0.145217</td>\n",
       "      <td>-0.150607</td>\n",
       "      <td>-33.830627</td>\n",
       "    </tr>\n",
       "    <tr>\n",
       "      <th>std</th>\n",
       "      <td>1.130343</td>\n",
       "      <td>0.939246</td>\n",
       "      <td>0.966025</td>\n",
       "      <td>1.075884</td>\n",
       "      <td>113.705634</td>\n",
       "    </tr>\n",
       "    <tr>\n",
       "      <th>min</th>\n",
       "      <td>-3.335422</td>\n",
       "      <td>-3.201827</td>\n",
       "      <td>-2.387265</td>\n",
       "      <td>-2.341602</td>\n",
       "      <td>-303.764323</td>\n",
       "    </tr>\n",
       "    <tr>\n",
       "      <th>25%</th>\n",
       "      <td>-0.686847</td>\n",
       "      <td>-0.907303</td>\n",
       "      <td>-0.790066</td>\n",
       "      <td>-0.868744</td>\n",
       "      <td>-117.770842</td>\n",
       "    </tr>\n",
       "    <tr>\n",
       "      <th>50%</th>\n",
       "      <td>0.101768</td>\n",
       "      <td>-0.345982</td>\n",
       "      <td>-0.204013</td>\n",
       "      <td>-0.073394</td>\n",
       "      <td>-28.448402</td>\n",
       "    </tr>\n",
       "    <tr>\n",
       "      <th>75%</th>\n",
       "      <td>0.776018</td>\n",
       "      <td>0.189614</td>\n",
       "      <td>0.589024</td>\n",
       "      <td>0.548438</td>\n",
       "      <td>41.160282</td>\n",
       "    </tr>\n",
       "    <tr>\n",
       "      <th>max</th>\n",
       "      <td>2.975509</td>\n",
       "      <td>1.883195</td>\n",
       "      <td>1.991814</td>\n",
       "      <td>2.420697</td>\n",
       "      <td>266.511864</td>\n",
       "    </tr>\n",
       "  </tbody>\n",
       "</table>\n",
       "</div>"
      ],
      "text/plain": [
       "               x0          x1          x2          x3           y\n",
       "count  100.000000  100.000000  100.000000  100.000000  100.000000\n",
       "mean     0.073504   -0.398587   -0.145217   -0.150607  -33.830627\n",
       "std      1.130343    0.939246    0.966025    1.075884  113.705634\n",
       "min     -3.335422   -3.201827   -2.387265   -2.341602 -303.764323\n",
       "25%     -0.686847   -0.907303   -0.790066   -0.868744 -117.770842\n",
       "50%      0.101768   -0.345982   -0.204013   -0.073394  -28.448402\n",
       "75%      0.776018    0.189614    0.589024    0.548438   41.160282\n",
       "max      2.975509    1.883195    1.991814    2.420697  266.511864"
      ]
     },
     "execution_count": 3,
     "metadata": {},
     "output_type": "execute_result"
    }
   ],
   "source": [
    "pd.DataFrame(list(zip(*x.T, y)), columns=['x0', 'x1', 'x2', 'x3', 'y']).describe()"
   ]
  },
  {
   "cell_type": "code",
   "execution_count": 4,
   "metadata": {
    "collapsed": false
   },
   "outputs": [],
   "source": [
    "train_x, test_x, train_y, test_y = sk.model_selection.train_test_split(x, y)"
   ]
  },
  {
   "cell_type": "code",
   "execution_count": 5,
   "metadata": {
    "collapsed": false
   },
   "outputs": [
    {
     "data": {
      "text/html": [
       "<div>\n",
       "<table border=\"1\" class=\"dataframe\">\n",
       "  <thead>\n",
       "    <tr style=\"text-align: right;\">\n",
       "      <th></th>\n",
       "      <th>x0</th>\n",
       "      <th>x1</th>\n",
       "      <th>x2</th>\n",
       "      <th>x3</th>\n",
       "      <th>y</th>\n",
       "    </tr>\n",
       "  </thead>\n",
       "  <tbody>\n",
       "    <tr>\n",
       "      <th>count</th>\n",
       "      <td>75.000000</td>\n",
       "      <td>75.000000</td>\n",
       "      <td>75.000000</td>\n",
       "      <td>75.000000</td>\n",
       "      <td>75.000000</td>\n",
       "    </tr>\n",
       "    <tr>\n",
       "      <th>mean</th>\n",
       "      <td>0.047113</td>\n",
       "      <td>-0.379162</td>\n",
       "      <td>-0.110824</td>\n",
       "      <td>-0.166623</td>\n",
       "      <td>-33.697720</td>\n",
       "    </tr>\n",
       "    <tr>\n",
       "      <th>std</th>\n",
       "      <td>1.060638</td>\n",
       "      <td>0.970416</td>\n",
       "      <td>0.994692</td>\n",
       "      <td>1.100830</td>\n",
       "      <td>120.955105</td>\n",
       "    </tr>\n",
       "    <tr>\n",
       "      <th>min</th>\n",
       "      <td>-3.335422</td>\n",
       "      <td>-3.201827</td>\n",
       "      <td>-2.387265</td>\n",
       "      <td>-2.341602</td>\n",
       "      <td>-303.764323</td>\n",
       "    </tr>\n",
       "    <tr>\n",
       "      <th>25%</th>\n",
       "      <td>-0.714547</td>\n",
       "      <td>-0.877304</td>\n",
       "      <td>-0.839604</td>\n",
       "      <td>-0.930012</td>\n",
       "      <td>-130.254985</td>\n",
       "    </tr>\n",
       "    <tr>\n",
       "      <th>50%</th>\n",
       "      <td>0.011824</td>\n",
       "      <td>-0.357660</td>\n",
       "      <td>-0.214683</td>\n",
       "      <td>-0.067435</td>\n",
       "      <td>-40.809328</td>\n",
       "    </tr>\n",
       "    <tr>\n",
       "      <th>75%</th>\n",
       "      <td>0.859054</td>\n",
       "      <td>0.196041</td>\n",
       "      <td>0.677163</td>\n",
       "      <td>0.551702</td>\n",
       "      <td>42.440505</td>\n",
       "    </tr>\n",
       "    <tr>\n",
       "      <th>max</th>\n",
       "      <td>1.875480</td>\n",
       "      <td>1.883195</td>\n",
       "      <td>1.991814</td>\n",
       "      <td>2.420697</td>\n",
       "      <td>266.511864</td>\n",
       "    </tr>\n",
       "  </tbody>\n",
       "</table>\n",
       "</div>"
      ],
      "text/plain": [
       "              x0         x1         x2         x3           y\n",
       "count  75.000000  75.000000  75.000000  75.000000   75.000000\n",
       "mean    0.047113  -0.379162  -0.110824  -0.166623  -33.697720\n",
       "std     1.060638   0.970416   0.994692   1.100830  120.955105\n",
       "min    -3.335422  -3.201827  -2.387265  -2.341602 -303.764323\n",
       "25%    -0.714547  -0.877304  -0.839604  -0.930012 -130.254985\n",
       "50%     0.011824  -0.357660  -0.214683  -0.067435  -40.809328\n",
       "75%     0.859054   0.196041   0.677163   0.551702   42.440505\n",
       "max     1.875480   1.883195   1.991814   2.420697  266.511864"
      ]
     },
     "execution_count": 5,
     "metadata": {},
     "output_type": "execute_result"
    }
   ],
   "source": [
    "pd.DataFrame(list(zip(*train_x.T, train_y)), columns=['x0', 'x1', 'x2', 'x3', 'y']).describe()"
   ]
  },
  {
   "cell_type": "code",
   "execution_count": 6,
   "metadata": {
    "collapsed": false
   },
   "outputs": [
    {
     "data": {
      "text/html": [
       "<div>\n",
       "<table border=\"1\" class=\"dataframe\">\n",
       "  <thead>\n",
       "    <tr style=\"text-align: right;\">\n",
       "      <th></th>\n",
       "      <th>x0</th>\n",
       "      <th>x1</th>\n",
       "      <th>x2</th>\n",
       "      <th>x3</th>\n",
       "      <th>y</th>\n",
       "    </tr>\n",
       "  </thead>\n",
       "  <tbody>\n",
       "    <tr>\n",
       "      <th>count</th>\n",
       "      <td>25.000000</td>\n",
       "      <td>25.000000</td>\n",
       "      <td>25.000000</td>\n",
       "      <td>25.000000</td>\n",
       "      <td>25.000000</td>\n",
       "    </tr>\n",
       "    <tr>\n",
       "      <th>mean</th>\n",
       "      <td>0.152679</td>\n",
       "      <td>-0.456864</td>\n",
       "      <td>-0.248397</td>\n",
       "      <td>-0.102561</td>\n",
       "      <td>-34.229350</td>\n",
       "    </tr>\n",
       "    <tr>\n",
       "      <th>std</th>\n",
       "      <td>1.339065</td>\n",
       "      <td>0.854806</td>\n",
       "      <td>0.885433</td>\n",
       "      <td>1.017412</td>\n",
       "      <td>90.676320</td>\n",
       "    </tr>\n",
       "    <tr>\n",
       "      <th>min</th>\n",
       "      <td>-2.743273</td>\n",
       "      <td>-2.556103</td>\n",
       "      <td>-1.916095</td>\n",
       "      <td>-2.110546</td>\n",
       "      <td>-201.168821</td>\n",
       "    </tr>\n",
       "    <tr>\n",
       "      <th>25%</th>\n",
       "      <td>-0.523776</td>\n",
       "      <td>-0.917219</td>\n",
       "      <td>-0.750524</td>\n",
       "      <td>-0.747697</td>\n",
       "      <td>-108.309582</td>\n",
       "    </tr>\n",
       "    <tr>\n",
       "      <th>50%</th>\n",
       "      <td>0.259455</td>\n",
       "      <td>-0.041811</td>\n",
       "      <td>-0.193343</td>\n",
       "      <td>-0.080914</td>\n",
       "      <td>-12.225756</td>\n",
       "    </tr>\n",
       "    <tr>\n",
       "      <th>75%</th>\n",
       "      <td>0.682674</td>\n",
       "      <td>0.123650</td>\n",
       "      <td>0.546379</td>\n",
       "      <td>0.452817</td>\n",
       "      <td>16.986780</td>\n",
       "    </tr>\n",
       "    <tr>\n",
       "      <th>max</th>\n",
       "      <td>2.975509</td>\n",
       "      <td>0.831291</td>\n",
       "      <td>1.401429</td>\n",
       "      <td>2.053663</td>\n",
       "      <td>97.888376</td>\n",
       "    </tr>\n",
       "  </tbody>\n",
       "</table>\n",
       "</div>"
      ],
      "text/plain": [
       "              x0         x1         x2         x3           y\n",
       "count  25.000000  25.000000  25.000000  25.000000   25.000000\n",
       "mean    0.152679  -0.456864  -0.248397  -0.102561  -34.229350\n",
       "std     1.339065   0.854806   0.885433   1.017412   90.676320\n",
       "min    -2.743273  -2.556103  -1.916095  -2.110546 -201.168821\n",
       "25%    -0.523776  -0.917219  -0.750524  -0.747697 -108.309582\n",
       "50%     0.259455  -0.041811  -0.193343  -0.080914  -12.225756\n",
       "75%     0.682674   0.123650   0.546379   0.452817   16.986780\n",
       "max     2.975509   0.831291   1.401429   2.053663   97.888376"
      ]
     },
     "execution_count": 6,
     "metadata": {},
     "output_type": "execute_result"
    }
   ],
   "source": [
    "pd.DataFrame(list(zip(*test_x.T, test_y)), columns=['x0', 'x1', 'x2', 'x3', 'y']).describe()"
   ]
  },
  {
   "cell_type": "code",
   "execution_count": 7,
   "metadata": {
    "collapsed": false
   },
   "outputs": [
    {
     "data": {
      "text/plain": [
       "0.95199303603188956"
      ]
     },
     "execution_count": 7,
     "metadata": {},
     "output_type": "execute_result"
    }
   ],
   "source": [
    "lr = sk.linear_model.LinearRegression()\n",
    "lr.fit(train_x, train_y)\n",
    "\n",
    "lr.score(train_x, train_y)"
   ]
  },
  {
   "cell_type": "code",
   "execution_count": 8,
   "metadata": {
    "collapsed": false
   },
   "outputs": [
    {
     "data": {
      "text/plain": [
       "0.88842957786798349"
      ]
     },
     "execution_count": 8,
     "metadata": {},
     "output_type": "execute_result"
    }
   ],
   "source": [
    "lr.score(test_x, test_y)"
   ]
  }
 ],
 "metadata": {
  "kernelspec": {
   "display_name": "Python 3",
   "language": "python",
   "name": "python3"
  },
  "language_info": {
   "codemirror_mode": {
    "name": "ipython",
    "version": 3
   },
   "file_extension": ".py",
   "mimetype": "text/x-python",
   "name": "python",
   "nbconvert_exporter": "python",
   "pygments_lexer": "ipython3",
   "version": "3.6.0"
  }
 },
 "nbformat": 4,
 "nbformat_minor": 2
}
