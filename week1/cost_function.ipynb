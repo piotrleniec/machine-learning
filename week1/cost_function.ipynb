{
 "cells": [
  {
   "cell_type": "code",
   "execution_count": 1,
   "metadata": {
    "collapsed": true
   },
   "outputs": [],
   "source": [
    "import numpy as np\n",
    "import matplotlib.pyplot as plt\n",
    "import pandas as pd"
   ]
  },
  {
   "cell_type": "code",
   "execution_count": 2,
   "metadata": {
    "collapsed": true
   },
   "outputs": [],
   "source": [
    "def generate_sample_data(theta0, theta1):\n",
    "    x = np.random.uniform(0, 10, 50)\n",
    "    y = theta0 + theta1 * x + np.random.randn(50)\n",
    "    \n",
    "    return x, y\n",
    "\n",
    "def create_hypothesis(theta0, theta1):\n",
    "    return lambda x: theta0 + theta1 * x"
   ]
  },
  {
   "cell_type": "code",
   "execution_count": 3,
   "metadata": {
    "collapsed": true
   },
   "outputs": [],
   "source": [
    "def create_cost_function(x, y):\n",
    "    return lambda h: np.sum((h(x) - y) ** 2) / (2.0 * len(x))"
   ]
  },
  {
   "cell_type": "code",
   "execution_count": 4,
   "metadata": {
    "collapsed": false
   },
   "outputs": [
    {
     "data": {
      "text/html": [
       "<div>\n",
       "<table border=\"1\" class=\"dataframe\">\n",
       "  <thead>\n",
       "    <tr style=\"text-align: right;\">\n",
       "      <th></th>\n",
       "      <th>theta0</th>\n",
       "      <th>theta1</th>\n",
       "      <th>cf</th>\n",
       "    </tr>\n",
       "  </thead>\n",
       "  <tbody>\n",
       "    <tr>\n",
       "      <th>5547</th>\n",
       "      <td>-0.505051</td>\n",
       "      <td>1.111111</td>\n",
       "      <td>0.487063</td>\n",
       "    </tr>\n",
       "    <tr>\n",
       "      <th>5546</th>\n",
       "      <td>-0.707071</td>\n",
       "      <td>1.111111</td>\n",
       "      <td>0.498225</td>\n",
       "    </tr>\n",
       "    <tr>\n",
       "      <th>5451</th>\n",
       "      <td>0.303030</td>\n",
       "      <td>0.909091</td>\n",
       "      <td>0.506723</td>\n",
       "    </tr>\n",
       "    <tr>\n",
       "      <th>5452</th>\n",
       "      <td>0.505051</td>\n",
       "      <td>0.909091</td>\n",
       "      <td>0.512551</td>\n",
       "    </tr>\n",
       "    <tr>\n",
       "      <th>5548</th>\n",
       "      <td>-0.303030</td>\n",
       "      <td>1.111111</td>\n",
       "      <td>0.516713</td>\n",
       "    </tr>\n",
       "    <tr>\n",
       "      <th>5450</th>\n",
       "      <td>0.101010</td>\n",
       "      <td>0.909091</td>\n",
       "      <td>0.541706</td>\n",
       "    </tr>\n",
       "    <tr>\n",
       "      <th>5545</th>\n",
       "      <td>-0.909091</td>\n",
       "      <td>1.111111</td>\n",
       "      <td>0.550199</td>\n",
       "    </tr>\n",
       "    <tr>\n",
       "      <th>5453</th>\n",
       "      <td>0.707071</td>\n",
       "      <td>0.909091</td>\n",
       "      <td>0.559192</td>\n",
       "    </tr>\n",
       "    <tr>\n",
       "      <th>5549</th>\n",
       "      <td>-0.101010</td>\n",
       "      <td>1.111111</td>\n",
       "      <td>0.587175</td>\n",
       "    </tr>\n",
       "    <tr>\n",
       "      <th>5449</th>\n",
       "      <td>-0.101010</td>\n",
       "      <td>0.909091</td>\n",
       "      <td>0.617502</td>\n",
       "    </tr>\n",
       "  </tbody>\n",
       "</table>\n",
       "</div>"
      ],
      "text/plain": [
       "        theta0    theta1        cf\n",
       "5547 -0.505051  1.111111  0.487063\n",
       "5546 -0.707071  1.111111  0.498225\n",
       "5451  0.303030  0.909091  0.506723\n",
       "5452  0.505051  0.909091  0.512551\n",
       "5548 -0.303030  1.111111  0.516713\n",
       "5450  0.101010  0.909091  0.541706\n",
       "5545 -0.909091  1.111111  0.550199\n",
       "5453  0.707071  0.909091  0.559192\n",
       "5549 -0.101010  1.111111  0.587175\n",
       "5449 -0.101010  0.909091  0.617502"
      ]
     },
     "execution_count": 4,
     "metadata": {},
     "output_type": "execute_result"
    }
   ],
   "source": [
    "x, y = generate_sample_data(0, 1)\n",
    "cf = create_cost_function(x, y)\n",
    "\n",
    "t0, t1 = np.meshgrid(np.linspace(-10, 10, 100), np.linspace(-10, 10, 100))\n",
    "\n",
    "hv = np.array([\n",
    "    cf(create_hypothesis(theta0, theta1))\n",
    "    for theta0, theta1\n",
    "    in zip(t0.ravel(), t1.ravel())\n",
    "])\n",
    "\n",
    "df = pd.DataFrame(list(zip(t0.ravel(), t1.ravel(), hv)), columns=['theta0', 'theta1', 'cf'])\n",
    "df.sort_values(['cf'], ascending=True).head(10)"
   ]
  }
 ],
 "metadata": {
  "kernelspec": {
   "display_name": "Python 3",
   "language": "python",
   "name": "python3"
  },
  "language_info": {
   "codemirror_mode": {
    "name": "ipython",
    "version": 3
   },
   "file_extension": ".py",
   "mimetype": "text/x-python",
   "name": "python",
   "nbconvert_exporter": "python",
   "pygments_lexer": "ipython3",
   "version": "3.6.0"
  }
 },
 "nbformat": 4,
 "nbformat_minor": 2
}
